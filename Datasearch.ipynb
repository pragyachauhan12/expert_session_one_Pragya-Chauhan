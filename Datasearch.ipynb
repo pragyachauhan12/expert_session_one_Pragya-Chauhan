{
 "cells": [
  {
   "cell_type": "code",
   "execution_count": 79,
   "id": "a441b79c",
   "metadata": {},
   "outputs": [],
   "source": [
    "# Now we are importing some important modules\n",
    "#json- for loading json files to memory\n",
    "\n",
    "import json\n",
    "from time import time\n",
    "from stringMatcher import levenshtein_ratio_and_distance\n",
    "\n",
    "# pretty table for showing output in tabular form\n",
    "\n",
    "from prettytable import PrettyTable\n",
    "table = PrettyTable(field_names=[\"Item_Type\",\"Order_ID\",\"Price\"])\n"
   ]
  },
  {
   "cell_type": "markdown",
   "id": "5dcb9b18",
   "metadata": {},
   "source": [
    "# Load the database into the memory"
   ]
  },
  {
   "cell_type": "code",
   "execution_count": 80,
   "id": "e30c2835",
   "metadata": {},
   "outputs": [],
   "source": [
    "data = json.load(open(\"newdataFinal_GIS.json.\", \"rb\"))"
   ]
  },
  {
   "cell_type": "markdown",
   "id": "609e17a3",
   "metadata": {},
   "source": [
    "# Load the Global secondary index into memory"
   ]
  },
  {
   "cell_type": "code",
   "execution_count": 81,
   "id": "412de328",
   "metadata": {},
   "outputs": [],
   "source": [
    "GIS = json.load(open(\"Order_cost1.json\", \"rb\"))"
   ]
  },
  {
   "cell_type": "markdown",
   "id": "d7d46b3a",
   "metadata": {},
   "source": [
    "# Write a function to search the order details by orderid"
   ]
  },
  {
   "cell_type": "code",
   "execution_count": 90,
   "id": "e71a0129",
   "metadata": {},
   "outputs": [],
   "source": [
    "def getClosestMatch(queryString):\n",
    "    \n",
    "    # Initialize the time counter...\n",
    "    tic                  = time()\n",
    "    \n",
    "    # Find closest match of the queryString from the Global Secondary Index...\n",
    "    matchRatios          = [levenshtein_ratio_and_distance(queryString, KEY) for KEY, _ in GIS.items()]\n",
    "    bestMatchRatio       = max(matchRatios)\n",
    "    \n",
    "\n",
    "    # If the best match ratio is less than 50% then we will assume that the records doesn't exist...\n",
    "    if (bestMatchRatio < 0.5):\n",
    "        return {\n",
    "\"response code\" : 404,\n",
    "            \"search time\"   : f\"{time()-tic} seconds\",\n",
    "            \"message\"       : \"error\",\n",
    "            \"response body\" : \"no match found\"\n",
    "        }\n",
    "    \n",
    "    # Otherwise...\n",
    "    bestMatchRatio_index = matchRatios.index(bestMatchRatio)\n",
    "\n",
    "    # Find the Order_ID of the order which is the best match to the queryString...\n",
    "    bestMatch_index = list(GIS)[bestMatchRatio_index]\n",
    "    bestMatch_Order_ID= GIS[bestMatch_index]\n",
    "    \n",
    "        \n",
    "    orderInfo= data[str(bestMatch_Order_ID)]\n",
    "\n",
    "    \n",
    "    \n",
    "    # Mark the search completion time...\n",
    "    toc                  = time()\n",
    "\n",
    "    # Add order id to the response...\n",
    "    orderInfo[\"Order_ID\"] = bestMatch_Order_ID\n",
    "    # Construct the response Model...\n",
    "    responseModel = {\n",
    "        \"response code\" : 200,\n",
    "        \"search time\"   : f\"{toc-tic} seconds\",\n",
    "        \"message\"       : \"success\",\n",
    "        \"response body\" : orderInfo\n",
    "    }\n",
    "    \n",
    "    return responseModel"
   ]
  },
  {
   "cell_type": "markdown",
   "id": "2e20fee3",
   "metadata": {},
   "source": [
    "#  Write a function to make a request and visualize the data returned by the search function"
   ]
  },
  {
   "cell_type": "code",
   "execution_count": 91,
   "id": "b3d4f6db",
   "metadata": {},
   "outputs": [],
   "source": [
    "def request(orderToSearch=\"\"):\n",
    "    # order id should always be in a string...\n",
    "    orderToSearch = str(orderToSearch)\n",
    "    # Check if the order id is valid...\n",
    "    if(orderToSearch.replace(\" \", \"\").strip() == \"\"):\n",
    "        return f\"Invalid OrderID\"\n",
    "    \n",
    "    # Make a request to fetch the order info...\n",
    "    response = getClosestMatch(queryString = orderToSearch)\n",
    "\n",
    "    # Check the response code...\n",
    "    if response[\"response code\"] == 404:\n",
    "        return f\"ERROR: No records found\"\n",
    "    \n",
    "    \n",
    "    Order_ID         : {response['response body']['Order ID']}\n",
    "    \n",
    "    Order_date          : {response['response body']['Order Date']}\n",
    "    Ship_date         :{response['response body']['Ship Date']}\n",
    "    Price             :{response['response body']['Price']}\n",
    "    print(table)\n",
    "    \n",
    "   "
   ]
  },
  {
   "cell_type": "markdown",
   "id": "fc9add47",
   "metadata": {},
   "source": [
    "### finally make a request."
   ]
  },
  {
   "cell_type": "code",
   "execution_count": 92,
   "id": "f0f70698",
   "metadata": {},
   "outputs": [
    {
     "data": {
      "text/plain": [
       "'ERROR: No records found'"
      ]
     },
     "execution_count": 92,
     "metadata": {},
     "output_type": "execute_result"
    }
   ],
   "source": [
    "request(orderToSearch=\"1\")"
   ]
  },
  {
   "cell_type": "code",
   "execution_count": 93,
   "id": "2cc1514f",
   "metadata": {},
   "outputs": [
    {
     "ename": "KeyError",
     "evalue": "\"{'Country': 'India', 'Itemtype': 'Personal Care', 'Order_ID': 102928006, 'Orderdate': '12/24/2015', 'Region': 'Asia', 'Shipdate': '1/31/2016', 'costs': {'Number': 7539, 'Price': 81.73, 'Totalcost': 427235.13}}\"",
     "output_type": "error",
     "traceback": [
      "\u001b[1;31m---------------------------------------------------------------------------\u001b[0m",
      "\u001b[1;31mKeyError\u001b[0m                                  Traceback (most recent call last)",
      "\u001b[1;32m<ipython-input-93-d77e98812d05>\u001b[0m in \u001b[0;36m<module>\u001b[1;34m\u001b[0m\n\u001b[1;32m----> 1\u001b[1;33m \u001b[0mrequest\u001b[0m\u001b[1;33m(\u001b[0m\u001b[0morderToSearch\u001b[0m\u001b[1;33m=\u001b[0m\u001b[1;34m\"102928006\"\u001b[0m\u001b[1;33m)\u001b[0m\u001b[1;33m\u001b[0m\u001b[1;33m\u001b[0m\u001b[0m\n\u001b[0m",
      "\u001b[1;32m<ipython-input-91-e9f70d03812c>\u001b[0m in \u001b[0;36mrequest\u001b[1;34m(orderToSearch)\u001b[0m\n\u001b[0;32m      7\u001b[0m \u001b[1;33m\u001b[0m\u001b[0m\n\u001b[0;32m      8\u001b[0m     \u001b[1;31m# Make a request to fetch the order info...\u001b[0m\u001b[1;33m\u001b[0m\u001b[1;33m\u001b[0m\u001b[1;33m\u001b[0m\u001b[0m\n\u001b[1;32m----> 9\u001b[1;33m     \u001b[0mresponse\u001b[0m \u001b[1;33m=\u001b[0m \u001b[0mgetClosestMatch\u001b[0m\u001b[1;33m(\u001b[0m\u001b[0mqueryString\u001b[0m \u001b[1;33m=\u001b[0m \u001b[0morderToSearch\u001b[0m\u001b[1;33m)\u001b[0m\u001b[1;33m\u001b[0m\u001b[1;33m\u001b[0m\u001b[0m\n\u001b[0m\u001b[0;32m     10\u001b[0m \u001b[1;33m\u001b[0m\u001b[0m\n\u001b[0;32m     11\u001b[0m     \u001b[1;31m# Check the response code...\u001b[0m\u001b[1;33m\u001b[0m\u001b[1;33m\u001b[0m\u001b[1;33m\u001b[0m\u001b[0m\n",
      "\u001b[1;32m<ipython-input-90-5bb917aa3dbe>\u001b[0m in \u001b[0;36mgetClosestMatch\u001b[1;34m(queryString)\u001b[0m\n\u001b[0;32m     26\u001b[0m \u001b[1;33m\u001b[0m\u001b[0m\n\u001b[0;32m     27\u001b[0m \u001b[1;33m\u001b[0m\u001b[0m\n\u001b[1;32m---> 28\u001b[1;33m     \u001b[0morderInfo\u001b[0m\u001b[1;33m=\u001b[0m \u001b[0mdata\u001b[0m\u001b[1;33m[\u001b[0m\u001b[0mstr\u001b[0m\u001b[1;33m(\u001b[0m\u001b[0mbestMatch_Order_ID\u001b[0m\u001b[1;33m)\u001b[0m\u001b[1;33m]\u001b[0m\u001b[1;33m\u001b[0m\u001b[1;33m\u001b[0m\u001b[0m\n\u001b[0m\u001b[0;32m     29\u001b[0m \u001b[1;33m\u001b[0m\u001b[0m\n\u001b[0;32m     30\u001b[0m \u001b[1;33m\u001b[0m\u001b[0m\n",
      "\u001b[1;31mKeyError\u001b[0m: \"{'Country': 'India', 'Itemtype': 'Personal Care', 'Order_ID': 102928006, 'Orderdate': '12/24/2015', 'Region': 'Asia', 'Shipdate': '1/31/2016', 'costs': {'Number': 7539, 'Price': 81.73, 'Totalcost': 427235.13}}\""
     ]
    }
   ],
   "source": [
    "request(orderToSearch=\"102928006\")"
   ]
  },
  {
   "cell_type": "code",
   "execution_count": null,
   "id": "179ac8bf",
   "metadata": {},
   "outputs": [],
   "source": []
  },
  {
   "cell_type": "code",
   "execution_count": null,
   "id": "fdf645c0",
   "metadata": {},
   "outputs": [],
   "source": []
  }
 ],
 "metadata": {
  "kernelspec": {
   "display_name": "Python 3",
   "language": "python",
   "name": "python3"
  },
  "language_info": {
   "codemirror_mode": {
    "name": "ipython",
    "version": 3
   },
   "file_extension": ".py",
   "mimetype": "text/x-python",
   "name": "python",
   "nbconvert_exporter": "python",
   "pygments_lexer": "ipython3",
   "version": "3.8.8"
  }
 },
 "nbformat": 4,
 "nbformat_minor": 5
}
